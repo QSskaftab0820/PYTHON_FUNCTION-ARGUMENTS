{
 "cells": [
  {
   "cell_type": "markdown",
   "id": "a478b5ec-2f6b-4ab8-84b5-632dbb40cad2",
   "metadata": {},
   "source": [
    "## PYTHON_FUNCTION & PYTHON ARGUMENT"
   ]
  },
  {
   "cell_type": "code",
   "execution_count": 1,
   "id": "ec52f256",
   "metadata": {},
   "outputs": [],
   "source": [
    "def greet():\n",
    "    print('hello')\n",
    "    print('Aftab')"
   ]
  },
  {
   "cell_type": "code",
   "execution_count": 2,
   "id": "c0a67bac",
   "metadata": {},
   "outputs": [
    {
     "name": "stdout",
     "output_type": "stream",
     "text": [
      "Hello\n",
      "Aftab\n"
     ]
    }
   ],
   "source": [
    "def greet():\n",
    "    print(\"Hello\")\n",
    "    print(\"Aftab\")\n",
    "greet()"
   ]
  },
  {
   "cell_type": "code",
   "execution_count": 3,
   "id": "e13a9817",
   "metadata": {},
   "outputs": [
    {
     "name": "stdout",
     "output_type": "stream",
     "text": [
      "Hello\n",
      "Aftab\n",
      "Hello\n",
      "SK\n"
     ]
    }
   ],
   "source": [
    "def greet():\n",
    "    print(\"Hello\")\n",
    "    print(\"Aftab\")\n",
    "greet()\n",
    "\n",
    "def greet():\n",
    "    print(\"Hello\")\n",
    "    print(\"SK\")\n",
    "greet()"
   ]
  },
  {
   "cell_type": "code",
   "execution_count": 4,
   "id": "77d18138",
   "metadata": {},
   "outputs": [
    {
     "name": "stdout",
     "output_type": "stream",
     "text": [
      "Hello\n",
      "Aftab\n",
      "\n",
      "Hello\n",
      "SK\n"
     ]
    }
   ],
   "source": [
    "def greet():\n",
    "    print(\"Hello\")\n",
    "    print(\"Aftab\")\n",
    "greet()\n",
    "\n",
    "\n",
    "print()\n",
    "\n",
    "\n",
    "def greet():\n",
    "    print(\"Hello\")\n",
    "    print(\"SK\")\n",
    "greet()"
   ]
  },
  {
   "cell_type": "code",
   "execution_count": 5,
   "id": "43902810",
   "metadata": {},
   "outputs": [
    {
     "name": "stdout",
     "output_type": "stream",
     "text": [
      "hello\n",
      "SK AFTAB\n",
      "\n",
      "hello\n",
      "SK AFTAB\n"
     ]
    }
   ],
   "source": [
    "def greet():\n",
    "    print('hello')\n",
    "    print('SK AFTAB')\n",
    "greet()\n",
    "\n",
    "print()\n",
    "\n",
    "greet()\n"
   ]
  },
  {
   "cell_type": "code",
   "execution_count": 6,
   "id": "aa87fad8",
   "metadata": {},
   "outputs": [
    {
     "name": "stdout",
     "output_type": "stream",
     "text": [
      "Hello\n",
      "SK AFTAB\n",
      "---------\n",
      "Hello\n",
      "SK AFTAB\n",
      "@@@@@@@@@@\n"
     ]
    }
   ],
   "source": [
    "#WITHOUT ARGUMENTS\n",
    "\n",
    "def greet():\n",
    "    print(\"Hello\")\n",
    "    print(\"SK AFTAB\")\n",
    "greet()\n",
    "print('---------')#should inside the quoets\n",
    "greet()\n",
    "print('@@@@@@@@@@')\n"
   ]
  },
  {
   "cell_type": "code",
   "execution_count": 7,
   "id": "8141f3fa",
   "metadata": {},
   "outputs": [
    {
     "name": "stdout",
     "output_type": "stream",
     "text": [
      "7\n"
     ]
    }
   ],
   "source": [
    "#WITH ARGUMENTS\n",
    "\n",
    "def add(x,y):\n",
    "    c=(x+y)\n",
    "    print(c)\n",
    "    \n",
    "add(3,4)"
   ]
  },
  {
   "cell_type": "code",
   "execution_count": 8,
   "id": "42d02a0c",
   "metadata": {},
   "outputs": [
    {
     "ename": "TypeError",
     "evalue": "add() takes 2 positional arguments but 4 were given",
     "output_type": "error",
     "traceback": [
      "\u001b[1;31m------------------------------------------------------------\u001b[0m",
      "\u001b[1;31mTypeError\u001b[0m                  Traceback (most recent call last)",
      "Cell \u001b[1;32mIn[8], line 4\u001b[0m\n\u001b[0;32m      2\u001b[0m     c\u001b[38;5;241m=\u001b[39mx\u001b[38;5;241m+\u001b[39my\n\u001b[0;32m      3\u001b[0m     \u001b[38;5;28mprint\u001b[39m(c)\n\u001b[1;32m----> 4\u001b[0m add(\u001b[38;5;241m5\u001b[39m,\u001b[38;5;241m6\u001b[39m,\u001b[38;5;241m2\u001b[39m,\u001b[38;5;241m4\u001b[39m)\n",
      "\u001b[1;31mTypeError\u001b[0m: add() takes 2 positional arguments but 4 were given"
     ]
    }
   ],
   "source": [
    "def add(x,y):\n",
    "    c=x+y\n",
    "    print(c)\n",
    "add(5,6,2,4)"
   ]
  },
  {
   "cell_type": "code",
   "execution_count": 29,
   "id": "6d9a672d",
   "metadata": {},
   "outputs": [
    {
     "ename": "TypeError",
     "evalue": "add() missing 1 required positional argument: 'y'",
     "output_type": "error",
     "traceback": [
      "\u001b[1;31m------------------------------------------------------------\u001b[0m",
      "\u001b[1;31mTypeError\u001b[0m                  Traceback (most recent call last)",
      "Cell \u001b[1;32mIn[29], line 4\u001b[0m\n\u001b[0;32m      2\u001b[0m     c\u001b[38;5;241m=\u001b[39m(x\u001b[38;5;241m+\u001b[39my)\n\u001b[0;32m      3\u001b[0m     \u001b[38;5;28mprint\u001b[39m(c)\n\u001b[1;32m----> 4\u001b[0m add(\u001b[38;5;241m4\u001b[39m)\n",
      "\u001b[1;31mTypeError\u001b[0m: add() missing 1 required positional argument: 'y'"
     ]
    }
   ],
   "source": [
    "def add(x,y):\n",
    "    c=(x+y)\n",
    "    print(c)\n",
    "add(4)"
   ]
  },
  {
   "cell_type": "code",
   "execution_count": 31,
   "id": "9fdecb01",
   "metadata": {},
   "outputs": [
    {
     "data": {
      "text/plain": [
       "11"
      ]
     },
     "execution_count": 31,
     "metadata": {},
     "output_type": "execute_result"
    }
   ],
   "source": [
    "def add(x,y):\n",
    "    c=x+y\n",
    "    return c\n",
    "add(5,6)"
   ]
  },
  {
   "cell_type": "code",
   "execution_count": 33,
   "id": "fbb38a47",
   "metadata": {},
   "outputs": [
    {
     "name": "stdout",
     "output_type": "stream",
     "text": [
      "11\n"
     ]
    }
   ],
   "source": [
    "def add(x,y):\n",
    "    c=x+y\n",
    "    return c\n",
    "print(add(5,6))"
   ]
  },
  {
   "cell_type": "code",
   "execution_count": 35,
   "id": "e8cec34b",
   "metadata": {},
   "outputs": [
    {
     "name": "stdout",
     "output_type": "stream",
     "text": [
      "Actually!\n",
      "AFTAB\n",
      "10+4 is\n",
      "14\n"
     ]
    }
   ],
   "source": [
    "def greet():\n",
    "    print(\"Actually!\")\n",
    "    print(\"AFTAB\")\n",
    "    print(\"10+4 is\")\n",
    "greet()\n",
    "\n",
    "def add(x,y):\n",
    "    c=x+y\n",
    "    return c\n",
    "print(add(10,4))"
   ]
  },
  {
   "cell_type": "code",
   "execution_count": 37,
   "id": "40ceb090",
   "metadata": {},
   "outputs": [
    {
     "name": "stdout",
     "output_type": "stream",
     "text": [
      "Actually!\n",
      "AFTAB\n"
     ]
    },
    {
     "data": {
      "text/plain": [
       "14"
      ]
     },
     "execution_count": 37,
     "metadata": {},
     "output_type": "execute_result"
    }
   ],
   "source": [
    "def greet():\n",
    "    print(\"Actually!\")\n",
    "    print(\"AFTAB\")\n",
    "    #print(\"10+4 is\")\n",
    "def add(x,y):\n",
    "    c=x+y\n",
    "    return c\n",
    "greet()\n",
    "add(10,4)"
   ]
  },
  {
   "cell_type": "code",
   "execution_count": 39,
   "id": "fb8c8369",
   "metadata": {},
   "outputs": [
    {
     "name": "stdout",
     "output_type": "stream",
     "text": [
      "Actually!\n",
      "AFTAB\n",
      "10+4 is\n",
      "______\n"
     ]
    },
    {
     "data": {
      "text/plain": [
       "14"
      ]
     },
     "execution_count": 39,
     "metadata": {},
     "output_type": "execute_result"
    }
   ],
   "source": [
    "def greet():\n",
    "    print(\"Actually!\")\n",
    "    print(\"AFTAB\")\n",
    "    print(\"10+4 is\")\n",
    "def add(x,y):\n",
    "    c=x+y\n",
    "    return c\n",
    "greet()\n",
    "print('______')\n",
    "add(10,4)"
   ]
  },
  {
   "cell_type": "code",
   "execution_count": 41,
   "id": "b33d554b",
   "metadata": {},
   "outputs": [
    {
     "name": "stdout",
     "output_type": "stream",
     "text": [
      "(24, -4, 480, 0.20833333333333334)\n",
      "<class 'tuple'>\n"
     ]
    }
   ],
   "source": [
    "def add(x,y,z):\n",
    "    c=x+y+z\n",
    "    d=x-y-z\n",
    "    e=x*y*z\n",
    "    f=x/y/z\n",
    "    return c,d,e,f\n",
    "result=add(10,8,6)\n",
    "print(result)\n",
    "print(type(result))\n"
   ]
  },
  {
   "cell_type": "code",
   "execution_count": 43,
   "id": "b498fc46",
   "metadata": {},
   "outputs": [
    {
     "name": "stdout",
     "output_type": "stream",
     "text": [
      "Actually!\n",
      "AFTAB\n",
      "10+4 is\n"
     ]
    },
    {
     "data": {
      "text/plain": [
       "86"
      ]
     },
     "execution_count": 43,
     "metadata": {},
     "output_type": "execute_result"
    }
   ],
   "source": [
    "def greet():\n",
    "    print(\"Actually!\")\n",
    "    print(\"AFTAB\")\n",
    "    print(\"10+4 is\")    \n",
    "\n",
    "def add(x,y,z): #its not worked,so use print\n",
    "    c=x+y+z\n",
    "    return c\n",
    "\n",
    "def sub(x,y,z):\n",
    "    d=x-y-z\n",
    "    return d\n",
    "\n",
    "greet()\n",
    "add(10,8,6)\n",
    "sub(120,18,16)\n",
    "\n",
    "\n",
    "    \n"
   ]
  },
  {
   "cell_type": "code",
   "execution_count": 45,
   "id": "5ae5f8c9",
   "metadata": {},
   "outputs": [
    {
     "name": "stdout",
     "output_type": "stream",
     "text": [
      "Hello!\n",
      "AFTAB\n",
      "24\n",
      "86\n"
     ]
    }
   ],
   "source": [
    "def greet():\n",
    "    print(\"Hello!\")\n",
    "    print(\"AFTAB\")\n",
    "       \n",
    "\n",
    "def add(x,y,z): \n",
    "    c=x+y+z\n",
    "    return c\n",
    "\n",
    "def sub(x,y,z):\n",
    "    d=x-y-z\n",
    "    return d\n",
    "\n",
    "greet()\n",
    "print(add(10,8,6))\n",
    "print(sub(120,18,16))\n",
    "\n",
    "\n",
    "    \n"
   ]
  },
  {
   "cell_type": "code",
   "execution_count": 47,
   "id": "6db81552",
   "metadata": {},
   "outputs": [
    {
     "name": "stdout",
     "output_type": "stream",
     "text": [
      "Hello!\n",
      "AFTAB\n"
     ]
    },
    {
     "data": {
      "text/plain": [
       "(154, 86)"
      ]
     },
     "execution_count": 47,
     "metadata": {},
     "output_type": "execute_result"
    }
   ],
   "source": [
    "def greet():\n",
    "    print(\"Hello!\")\n",
    "    print(\"AFTAB\")\n",
    "       \n",
    "\n",
    "def add_sub(x,y,z): \n",
    "    c=x+y+z\n",
    "    d=x-y-z\n",
    "    return c,d\n",
    "\n",
    "greet()\n",
    "add_sub(120,18,16)\n",
    "\n",
    "\n",
    "    \n"
   ]
  },
  {
   "cell_type": "code",
   "execution_count": 49,
   "id": "d4e854bd",
   "metadata": {},
   "outputs": [
    {
     "name": "stdout",
     "output_type": "stream",
     "text": [
      "Hello!\n",
      "AFTAB\n",
      "(154, 86)\n",
      "<class 'tuple'>\n"
     ]
    }
   ],
   "source": [
    "def greet():\n",
    "    print(\"Hello!\")\n",
    "    print(\"AFTAB\")\n",
    "       \n",
    "\n",
    "def add_sub(x,y,z): \n",
    "    c=x+y+z\n",
    "    d=x-y-z\n",
    "    return c,d\n",
    "\n",
    "greet()\n",
    "result=add_sub(120,18,16)\n",
    "print(result)\n",
    "print(type(result))\n",
    "\n",
    "\n",
    "    \n"
   ]
  },
  {
   "cell_type": "code",
   "execution_count": 51,
   "id": "4e6319df",
   "metadata": {},
   "outputs": [
    {
     "name": "stdout",
     "output_type": "stream",
     "text": [
      "30 30\n",
      "<class 'int'>\n",
      "<class 'int'>\n"
     ]
    }
   ],
   "source": [
    "def add_sub(x,y):\n",
    "    c=x+y\n",
    "    d=x+y\n",
    "    return c,d\n",
    "\n",
    "res1,res2 = add_sub(20,10)\n",
    "\n",
    "print(res1,res2)\n",
    "\n",
    "print(type(res1))\n",
    "print(type(res2))   "
   ]
  },
  {
   "cell_type": "code",
   "execution_count": 53,
   "id": "98ef5ae1",
   "metadata": {},
   "outputs": [
    {
     "name": "stdout",
     "output_type": "stream",
     "text": [
      "Hello SK AFTAB\n"
     ]
    }
   ],
   "source": [
    "def greet (name):\n",
    "    print(\"Hello\",name)\n",
    "    \n",
    "greet(\"SK AFTAB\")"
   ]
  },
  {
   "cell_type": "code",
   "execution_count": 55,
   "id": "c661d75a",
   "metadata": {},
   "outputs": [
    {
     "name": "stdout",
     "output_type": "stream",
     "text": [
      "Hello World\n",
      "Outside Function\n"
     ]
    }
   ],
   "source": [
    "def greet():\n",
    "    print(\"Hello World\")\n",
    "    \n",
    "greet()\n",
    "print(\"Outside Function\")"
   ]
  },
  {
   "cell_type": "code",
   "execution_count": 57,
   "id": "acf7541c",
   "metadata": {},
   "outputs": [
    {
     "data": {
      "text/plain": [
       "('sum:', 30)"
      ]
     },
     "execution_count": 57,
     "metadata": {},
     "output_type": "execute_result"
    }
   ],
   "source": [
    "def add(x,y):\n",
    "    sum=x+y\n",
    "    return('sum:',sum)\n",
    "add(10,20)"
   ]
  },
  {
   "cell_type": "code",
   "execution_count": 59,
   "id": "4343c074",
   "metadata": {},
   "outputs": [
    {
     "name": "stdout",
     "output_type": "stream",
     "text": [
      "('sum=', 30)\n"
     ]
    }
   ],
   "source": [
    "def add(x,y):\n",
    "    sum=x+y\n",
    "    return(sum)\n",
    "print(('sum=',add(10,20)))"
   ]
  },
  {
   "cell_type": "code",
   "execution_count": 61,
   "id": "534216ae",
   "metadata": {},
   "outputs": [
    {
     "name": "stdout",
     "output_type": "stream",
     "text": [
      "30\n",
      "<class 'int'>\n"
     ]
    }
   ],
   "source": [
    "def add(x,y):\n",
    "    sum=x+y\n",
    "    return(sum)\n",
    "result = add(10,20)\n",
    "print(result)\n",
    "print(type(result))"
   ]
  },
  {
   "cell_type": "code",
   "execution_count": 63,
   "id": "c960e179",
   "metadata": {},
   "outputs": [
    {
     "name": "stdout",
     "output_type": "stream",
     "text": [
      "8\n"
     ]
    }
   ],
   "source": [
    "#Dont confuse with the function name and variable name,both are same but works differently\n",
    "def square(x,y):\n",
    "    square=x**y\n",
    "    return(square)\n",
    "print(square(2,3))"
   ]
  },
  {
   "cell_type": "code",
   "execution_count": 65,
   "id": "601bf459",
   "metadata": {},
   "outputs": [
    {
     "name": "stdout",
     "output_type": "stream",
     "text": [
      "256\n"
     ]
    }
   ],
   "source": [
    "def square(x,y):\n",
    "    result=x**y\n",
    "    return result \n",
    "\n",
    "print(square(4,4))"
   ]
  },
  {
   "cell_type": "code",
   "execution_count": 67,
   "id": "2ff0f2a0",
   "metadata": {},
   "outputs": [],
   "source": [
    "# this will execute without any action or error\n",
    "def future_function():\n",
    "    pass\n"
   ]
  },
  {
   "cell_type": "code",
   "execution_count": 69,
   "id": "30397f68",
   "metadata": {},
   "outputs": [],
   "source": [
    "def future_function():\n",
    "    pass\n",
    "\n",
    "# this will execute without any action or error\n",
    "future_function()  "
   ]
  },
  {
   "cell_type": "markdown",
   "id": "c2dba89b",
   "metadata": {},
   "source": [
    "### Python Library Function"
   ]
  },
  {
   "cell_type": "code",
   "execution_count": 72,
   "id": "05dee063",
   "metadata": {},
   "outputs": [
    {
     "name": "stdout",
     "output_type": "stream",
     "text": [
      "square root of 16 is: 4.0\n"
     ]
    }
   ],
   "source": [
    "import math\n",
    "\n",
    "square_root = math.sqrt(16)\n",
    "\n",
    "print(\"square root of 16 is:\",square_root)\n"
   ]
  },
  {
   "cell_type": "code",
   "execution_count": 74,
   "id": "f0a4ec8b",
   "metadata": {},
   "outputs": [
    {
     "name": "stdout",
     "output_type": "stream",
     "text": [
      "2 to the power of 3 is: 8\n"
     ]
    }
   ],
   "source": [
    "power = pow(2,3)\n",
    "print(\"2 to the power of 3 is:\",power)"
   ]
  },
  {
   "cell_type": "markdown",
   "id": "fc39b4dd",
   "metadata": {},
   "source": [
    "### Function to find average marks"
   ]
  },
  {
   "cell_type": "code",
   "execution_count": 77,
   "id": "9eb605b2",
   "metadata": {},
   "outputs": [
    {
     "name": "stdout",
     "output_type": "stream",
     "text": [
      "AVerage_Marks: 86.6\n"
     ]
    }
   ],
   "source": [
    "def find_avg_marks(marks):\n",
    "    sum_of_marks = sum(marks)\n",
    "    total_subject = len(marks)\n",
    "    average_marks = sum_of_marks/total_subject\n",
    "    return average_marks\n",
    "\n",
    "marks = [90, 85, 78, 92, 88]\n",
    "\n",
    "Average_Marks = find_avg_marks(marks)\n",
    "print(\"AVerage_Marks:\",Average_Marks)"
   ]
  },
  {
   "cell_type": "code",
   "execution_count": 79,
   "id": "8074a771",
   "metadata": {},
   "outputs": [
    {
     "name": "stdout",
     "output_type": "stream",
     "text": [
      "86.6\n"
     ]
    }
   ],
   "source": [
    "def find_avg_marks(marks):\n",
    "    avg=sum(marks)/len(marks)\n",
    "    return avg\n",
    "marks = [90, 85, 78, 92, 88]\n",
    "print(find_avg_marks(marks))"
   ]
  },
  {
   "cell_type": "markdown",
   "id": "d199017d",
   "metadata": {},
   "source": [
    "### Function Argument with Default Values"
   ]
  },
  {
   "cell_type": "code",
   "execution_count": 82,
   "id": "4fa79170",
   "metadata": {},
   "outputs": [
    {
     "data": {
      "text/plain": [
       "5"
      ]
     },
     "execution_count": 82,
     "metadata": {},
     "output_type": "execute_result"
    }
   ],
   "source": [
    "def add_num(a=7,b=8):\n",
    "    sum=a+b\n",
    "    return sum\n",
    "add_num (2,3)\n",
    "\n"
   ]
  },
  {
   "cell_type": "code",
   "execution_count": 84,
   "id": "28d0ab17",
   "metadata": {},
   "outputs": [
    {
     "data": {
      "text/plain": [
       "10"
      ]
     },
     "execution_count": 84,
     "metadata": {},
     "output_type": "execute_result"
    }
   ],
   "source": [
    "def add_num(a=7,b=8):\n",
    "    sum=a+b\n",
    "    return sum\n",
    "add_num (2) #cause only a=2 is given,so by default it takes second value as b=8)\n",
    "\n",
    "\n"
   ]
  },
  {
   "cell_type": "code",
   "execution_count": 86,
   "id": "df399923",
   "metadata": {},
   "outputs": [
    {
     "data": {
      "text/plain": [
       "11"
      ]
     },
     "execution_count": 86,
     "metadata": {},
     "output_type": "execute_result"
    }
   ],
   "source": [
    "def add_num(a=7,b=8):\n",
    "    sum=a+b\n",
    "    return sum\n",
    "add_num (b=4) #cause only b=4 is given,so by default it takes second value as a=7)\n",
    "\n"
   ]
  },
  {
   "cell_type": "code",
   "execution_count": 88,
   "id": "c40372af",
   "metadata": {},
   "outputs": [
    {
     "data": {
      "text/plain": [
       "15"
      ]
     },
     "execution_count": 88,
     "metadata": {},
     "output_type": "execute_result"
    }
   ],
   "source": [
    "def add_num(a=7,b=8):\n",
    "    sum=a+b\n",
    "    return sum\n",
    "add_num() #cause not given any value during call, by default it add both given arguments values.\n",
    "\n"
   ]
  },
  {
   "cell_type": "markdown",
   "id": "2dd0fe4d",
   "metadata": {},
   "source": [
    "### Python Keyword Argument"
   ]
  },
  {
   "cell_type": "code",
   "execution_count": 91,
   "id": "f9bb2b6c",
   "metadata": {},
   "outputs": [
    {
     "name": "stdout",
     "output_type": "stream",
     "text": [
      "('First_Name:', 'SK')\n",
      "('Last_Name:', 'AFTAB')\n"
     ]
    }
   ],
   "source": [
    "def display_info_f(first_name):\n",
    "    return(\"First_Name:\",first_name)\n",
    "def display_info_l(last_name):\n",
    "    return(\"Last_Name:\",last_name)\n",
    "    \n",
    "print(display_info_f(\"SK\"))\n",
    "print(display_info_l(\"AFTAB\"))\n"
   ]
  },
  {
   "cell_type": "code",
   "execution_count": 93,
   "id": "84aab5d4",
   "metadata": {},
   "outputs": [
    {
     "name": "stdout",
     "output_type": "stream",
     "text": [
      "First_Name: SK\n",
      "Last_Name: AFTAB\n"
     ]
    }
   ],
   "source": [
    "def display_info(first_name,last_name):\n",
    "    print(\"First_Name:\",first_name)\n",
    "    print(\"Last_Name:\",last_name)\n",
    "    \n",
    "display_info(first_name=\"SK\",last_name=\"AFTAB\")\n"
   ]
  },
  {
   "cell_type": "code",
   "execution_count": 95,
   "id": "e5332111",
   "metadata": {},
   "outputs": [
    {
     "name": "stdout",
     "output_type": "stream",
     "text": [
      "First_Name: SK\n",
      "Last_Name: AFTAB\n"
     ]
    }
   ],
   "source": [
    "def display_info(first_name,last_name):\n",
    "    print(\"First_Name:\",first_name)\n",
    "    print(\"Last_Name:\",last_name)\n",
    "    \n",
    "display_info(\"SK\",\"AFTAB\")\n"
   ]
  }
 ],
 "metadata": {
  "kernelspec": {
   "display_name": "Python [conda env:base] *",
   "language": "python",
   "name": "conda-base-py"
  },
  "language_info": {
   "codemirror_mode": {
    "name": "ipython",
    "version": 3
   },
   "file_extension": ".py",
   "mimetype": "text/x-python",
   "name": "python",
   "nbconvert_exporter": "python",
   "pygments_lexer": "ipython3",
   "version": "3.12.7"
  }
 },
 "nbformat": 4,
 "nbformat_minor": 5
}
